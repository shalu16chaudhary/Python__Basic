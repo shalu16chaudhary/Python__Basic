{
 "cells": [
  {
   "cell_type": "code",
   "execution_count": 38,
   "id": "9842fa3d-8754-4d8c-9a2f-b79346a5cfff",
   "metadata": {},
   "outputs": [],
   "source": [
    "import pandas as pd\n",
    "import numpy as np\n",
    "import matplotlib.pyplot as plt"
   ]
  },
  {
   "cell_type": "code",
   "execution_count": 39,
   "id": "572960c0-bf98-4bfb-9e53-1faec7a33133",
   "metadata": {},
   "outputs": [],
   "source": [
    "stud = pd.read_csv(\"Data_StudentMarks.csv\")"
   ]
  },
  {
   "cell_type": "markdown",
   "id": "19f3ff16-5483-4d74-b10c-79d1d5996880",
   "metadata": {},
   "source": [
    " "
   ]
  },
  {
   "cell_type": "markdown",
   "id": "e2ff3148-74d1-445a-a240-e4e5e4c40e93",
   "metadata": {},
   "source": [
    "\n",
    "Count Total Null in each column"
   ]
  },
  {
   "cell_type": "code",
   "execution_count": 40,
   "id": "8d3678e1-5436-4fcb-afca-67490b14cbad",
   "metadata": {},
   "outputs": [
    {
     "data": {
      "text/plain": [
       "name          1\n",
       "roll_no       4\n",
       "exam_id       7\n",
       "fees          5\n",
       "marks         9\n",
       "percentage    9\n",
       "result        5\n",
       "dtype: int64"
      ]
     },
     "execution_count": 40,
     "metadata": {},
     "output_type": "execute_result"
    }
   ],
   "source": [
    "myNull = stud.isnull().sum()\n",
    "myNull"
   ]
  },
  {
   "cell_type": "markdown",
   "id": "87abcc6d-f879-405c-ab38-f7adeb18399e",
   "metadata": {},
   "source": [
    " "
   ]
  },
  {
   "cell_type": "markdown",
   "id": "58ac4e73-9ebf-4677-bb7a-15c3a9e504ef",
   "metadata": {},
   "source": [
    "Count Rows which has null values"
   ]
  },
  {
   "cell_type": "code",
   "execution_count": 41,
   "id": "8979816d-3040-423c-9bd7-6316ca0715b8",
   "metadata": {},
   "outputs": [
    {
     "data": {
      "text/html": [
       "<div>\n",
       "<style scoped>\n",
       "    .dataframe tbody tr th:only-of-type {\n",
       "        vertical-align: middle;\n",
       "    }\n",
       "\n",
       "    .dataframe tbody tr th {\n",
       "        vertical-align: top;\n",
       "    }\n",
       "\n",
       "    .dataframe thead th {\n",
       "        text-align: right;\n",
       "    }\n",
       "</style>\n",
       "<table border=\"1\" class=\"dataframe\">\n",
       "  <thead>\n",
       "    <tr style=\"text-align: right;\">\n",
       "      <th></th>\n",
       "      <th>name</th>\n",
       "      <th>roll_no</th>\n",
       "      <th>exam_id</th>\n",
       "      <th>fees</th>\n",
       "      <th>marks</th>\n",
       "      <th>percentage</th>\n",
       "      <th>result</th>\n",
       "    </tr>\n",
       "  </thead>\n",
       "  <tbody>\n",
       "    <tr>\n",
       "      <th>4</th>\n",
       "      <td>harsh</td>\n",
       "      <td>NaN</td>\n",
       "      <td>NaN</td>\n",
       "      <td>15k</td>\n",
       "      <td>NaN</td>\n",
       "      <td>NaN</td>\n",
       "      <td>failed</td>\n",
       "    </tr>\n",
       "    <tr>\n",
       "      <th>13</th>\n",
       "      <td>seoul</td>\n",
       "      <td>NaN</td>\n",
       "      <td>NaN</td>\n",
       "      <td>NaN</td>\n",
       "      <td>NaN</td>\n",
       "      <td>NaN</td>\n",
       "      <td>NaN</td>\n",
       "    </tr>\n",
       "    <tr>\n",
       "      <th>18</th>\n",
       "      <td>devansh</td>\n",
       "      <td>NaN</td>\n",
       "      <td>19.0</td>\n",
       "      <td>50k</td>\n",
       "      <td>67.0</td>\n",
       "      <td>NaN</td>\n",
       "      <td>failed</td>\n",
       "    </tr>\n",
       "    <tr>\n",
       "      <th>19</th>\n",
       "      <td>NaN</td>\n",
       "      <td>NaN</td>\n",
       "      <td>NaN</td>\n",
       "      <td>20k</td>\n",
       "      <td>NaN</td>\n",
       "      <td>NaN</td>\n",
       "      <td>NaN</td>\n",
       "    </tr>\n",
       "  </tbody>\n",
       "</table>\n",
       "</div>"
      ],
      "text/plain": [
       "       name  roll_no  exam_id fees  marks percentage  result\n",
       "4     harsh      NaN      NaN  15k    NaN        NaN  failed\n",
       "13    seoul      NaN      NaN  NaN    NaN        NaN     NaN\n",
       "18  devansh      NaN     19.0  50k   67.0        NaN  failed\n",
       "19      NaN      NaN      NaN  20k    NaN        NaN     NaN"
      ]
     },
     "execution_count": 41,
     "metadata": {},
     "output_type": "execute_result"
    }
   ],
   "source": [
    "myNull = stud[stud['roll_no'].isnull()]\n",
    "myNull"
   ]
  },
  {
   "cell_type": "markdown",
   "id": "4a4466dc-c029-4a1a-988d-63a65684426e",
   "metadata": {},
   "source": [
    " "
   ]
  },
  {
   "cell_type": "markdown",
   "id": "acfbda1d-d813-4c7d-9abc-60d13418d249",
   "metadata": {},
   "source": [
    "Add another row"
   ]
  },
  {
   "cell_type": "code",
   "execution_count": 42,
   "id": "dc266c49-cd45-4aa8-86de-4e22762b5349",
   "metadata": {},
   "outputs": [],
   "source": [
    "stud.loc['24', : ] = 'Jatin', 54,54,'20k',89,'89%','passed'"
   ]
  },
  {
   "cell_type": "markdown",
   "id": "9fbfd396-c2b4-4ed1-a97d-801d3395f436",
   "metadata": {},
   "source": [
    " "
   ]
  },
  {
   "cell_type": "markdown",
   "id": "58ac919e-9267-4633-a82d-1ef666f36aa0",
   "metadata": {},
   "source": [
    "Update a nan value"
   ]
  },
  {
   "cell_type": "code",
   "execution_count": 55,
   "id": "644c23a1-b778-4119-ae7f-b3db0bc06548",
   "metadata": {},
   "outputs": [
    {
     "data": {
      "text/plain": [
       "\"\\nNote : Both below methods will be depricated and won't be supported in future updates of Pandas.\\n\""
      ]
     },
     "execution_count": 55,
     "metadata": {},
     "output_type": "execute_result"
    }
   ],
   "source": [
    "'''\n",
    "Note : Both below methods will be depricated and won't be supported in future updates of Pandas.\n",
    "'''"
   ]
  },
  {
   "cell_type": "code",
   "execution_count": 57,
   "id": "af7c7c4e-eaac-483a-bb5e-efdadc5baa81",
   "metadata": {},
   "outputs": [
    {
     "name": "stderr",
     "output_type": "stream",
     "text": [
      "C:\\Users\\user\\AppData\\Local\\Temp\\ipykernel_7048\\3774826156.py:1: FutureWarning: ChainedAssignmentError: behaviour will change in pandas 3.0!\n",
      "You are setting values through chained assignment. Currently this works in certain cases, but when using Copy-on-Write (which will become the default behaviour in pandas 3.0) this will never work to update the original DataFrame or Series, because the intermediate object on which we are setting values will behave as a copy.\n",
      "A typical example is when you are setting values in a column of a DataFrame, like:\n",
      "\n",
      "df[\"col\"][row_indexer] = value\n",
      "\n",
      "Use `df.loc[row_indexer, \"col\"] = values` instead, to perform the assignment in a single step and ensure this keeps updating the original `df`.\n",
      "\n",
      "See the caveats in the documentation: https://pandas.pydata.org/pandas-docs/stable/user_guide/indexing.html#returning-a-view-versus-a-copy\n",
      "\n",
      "  stud['roll_no'].iloc[4]=15.0\n",
      "C:\\Users\\user\\AppData\\Local\\Temp\\ipykernel_7048\\3774826156.py:1: SettingWithCopyWarning: \n",
      "A value is trying to be set on a copy of a slice from a DataFrame\n",
      "\n",
      "See the caveats in the documentation: https://pandas.pydata.org/pandas-docs/stable/user_guide/indexing.html#returning-a-view-versus-a-copy\n",
      "  stud['roll_no'].iloc[4]=15.0\n",
      "C:\\Users\\user\\AppData\\Local\\Temp\\ipykernel_7048\\3774826156.py:3: SettingWithCopyWarning: \n",
      "A value is trying to be set on a copy of a slice from a DataFrame\n",
      "\n",
      "See the caveats in the documentation: https://pandas.pydata.org/pandas-docs/stable/user_guide/indexing.html#returning-a-view-versus-a-copy\n",
      "  stud.name.iloc[19] = 'Vanshika Moti'\n"
     ]
    }
   ],
   "source": [
    "stud['roll_no'].iloc[4]=15.0\n",
    "# or\n",
    "stud.name.iloc[19] = 'Vanshika Moti'"
   ]
  },
  {
   "cell_type": "markdown",
   "id": "ddc21f24-4fa0-42e5-8501-d6b1144ea12f",
   "metadata": {},
   "source": [
    "Lets update nan automatically and logically"
   ]
  },
  {
   "cell_type": "code",
   "execution_count": 44,
   "id": "5efe3747-363c-41e2-87e6-f57aa215668b",
   "metadata": {},
   "outputs": [],
   "source": [
    "# for i in ['fees', 'marks', 'percentage']:\n",
    "#     total = sum(stud[i])\n",
    "#     avg = stud[i]/total\n",
    "#     #for j in range(len(stud.index)):\n",
    "#     for j in stud[stud['roll no.'].isnull()].index:\n",
    "#         if stud.loc[j, i] == np.nan:\n",
    "#             stud.loc[j, i] = avg"
   ]
  },
  {
   "cell_type": "markdown",
   "id": "e40032ee-e488-4254-ae16-6fb13e6677da",
   "metadata": {},
   "source": [
    "or"
   ]
  },
  {
   "cell_type": "code",
   "execution_count": 45,
   "id": "f744299a-6fe6-431d-aeea-018eb4e8cdbc",
   "metadata": {},
   "outputs": [],
   "source": [
    "stud.roll_no = stud.roll_no.fillna(55)\n",
    "stud.exam_id = stud.exam_id.fillna(2.0)\n",
    "stud.fees = stud.fees.fillna('15k')\n",
    "stud.marks = stud.marks.fillna(89)\n",
    "stud.percentage = stud.percentage.fillna('88%')\n",
    "stud.result = stud.exam_id.fillna('passed')"
   ]
  },
  {
   "cell_type": "code",
   "execution_count": 46,
   "id": "bdb0475e-cb7e-42dc-b0c4-100ae9fadc26",
   "metadata": {},
   "outputs": [
    {
     "data": {
      "text/html": [
       "<div>\n",
       "<style scoped>\n",
       "    .dataframe tbody tr th:only-of-type {\n",
       "        vertical-align: middle;\n",
       "    }\n",
       "\n",
       "    .dataframe tbody tr th {\n",
       "        vertical-align: top;\n",
       "    }\n",
       "\n",
       "    .dataframe thead th {\n",
       "        text-align: right;\n",
       "    }\n",
       "</style>\n",
       "<table border=\"1\" class=\"dataframe\">\n",
       "  <thead>\n",
       "    <tr style=\"text-align: right;\">\n",
       "      <th></th>\n",
       "      <th>name</th>\n",
       "      <th>roll_no</th>\n",
       "      <th>exam_id</th>\n",
       "      <th>fees</th>\n",
       "      <th>marks</th>\n",
       "      <th>percentage</th>\n",
       "      <th>result</th>\n",
       "    </tr>\n",
       "  </thead>\n",
       "  <tbody>\n",
       "    <tr>\n",
       "      <th>0</th>\n",
       "      <td>ayushi</td>\n",
       "      <td>11.0</td>\n",
       "      <td>1.0</td>\n",
       "      <td>10k</td>\n",
       "      <td>80.0</td>\n",
       "      <td>70%</td>\n",
       "      <td>1.0</td>\n",
       "    </tr>\n",
       "    <tr>\n",
       "      <th>1</th>\n",
       "      <td>aditya</td>\n",
       "      <td>12.0</td>\n",
       "      <td>2.0</td>\n",
       "      <td>11k</td>\n",
       "      <td>81.0</td>\n",
       "      <td>71%</td>\n",
       "      <td>2.0</td>\n",
       "    </tr>\n",
       "    <tr>\n",
       "      <th>2</th>\n",
       "      <td>dev</td>\n",
       "      <td>13.0</td>\n",
       "      <td>2.0</td>\n",
       "      <td>13k</td>\n",
       "      <td>89.0</td>\n",
       "      <td>88%</td>\n",
       "      <td>2.0</td>\n",
       "    </tr>\n",
       "    <tr>\n",
       "      <th>3</th>\n",
       "      <td>ansh</td>\n",
       "      <td>14.0</td>\n",
       "      <td>2.0</td>\n",
       "      <td>14k</td>\n",
       "      <td>89.0</td>\n",
       "      <td>77%</td>\n",
       "      <td>2.0</td>\n",
       "    </tr>\n",
       "    <tr>\n",
       "      <th>4</th>\n",
       "      <td>harsh</td>\n",
       "      <td>15.0</td>\n",
       "      <td>2.0</td>\n",
       "      <td>15k</td>\n",
       "      <td>89.0</td>\n",
       "      <td>88%</td>\n",
       "      <td>2.0</td>\n",
       "    </tr>\n",
       "    <tr>\n",
       "      <th>5</th>\n",
       "      <td>varun</td>\n",
       "      <td>16.0</td>\n",
       "      <td>6.0</td>\n",
       "      <td>20k</td>\n",
       "      <td>78.0</td>\n",
       "      <td>88%</td>\n",
       "      <td>6.0</td>\n",
       "    </tr>\n",
       "    <tr>\n",
       "      <th>6</th>\n",
       "      <td>tyga</td>\n",
       "      <td>17.0</td>\n",
       "      <td>7.0</td>\n",
       "      <td>8k</td>\n",
       "      <td>50.0</td>\n",
       "      <td>55%</td>\n",
       "      <td>7.0</td>\n",
       "    </tr>\n",
       "    <tr>\n",
       "      <th>7</th>\n",
       "      <td>gunjan</td>\n",
       "      <td>18.0</td>\n",
       "      <td>8.0</td>\n",
       "      <td>7k</td>\n",
       "      <td>45.0</td>\n",
       "      <td>50%</td>\n",
       "      <td>8.0</td>\n",
       "    </tr>\n",
       "    <tr>\n",
       "      <th>8</th>\n",
       "      <td>gagan</td>\n",
       "      <td>19.0</td>\n",
       "      <td>9.0</td>\n",
       "      <td>50k</td>\n",
       "      <td>95.0</td>\n",
       "      <td>99%</td>\n",
       "      <td>9.0</td>\n",
       "    </tr>\n",
       "    <tr>\n",
       "      <th>9</th>\n",
       "      <td>bhargav</td>\n",
       "      <td>20.0</td>\n",
       "      <td>10.0</td>\n",
       "      <td>40k</td>\n",
       "      <td>30.0</td>\n",
       "      <td>40%</td>\n",
       "      <td>10.0</td>\n",
       "    </tr>\n",
       "    <tr>\n",
       "      <th>10</th>\n",
       "      <td>satyendra</td>\n",
       "      <td>21.0</td>\n",
       "      <td>11.0</td>\n",
       "      <td>35k</td>\n",
       "      <td>89.0</td>\n",
       "      <td>88%</td>\n",
       "      <td>11.0</td>\n",
       "    </tr>\n",
       "    <tr>\n",
       "      <th>11</th>\n",
       "      <td>pragya</td>\n",
       "      <td>22.0</td>\n",
       "      <td>12.0</td>\n",
       "      <td>6k</td>\n",
       "      <td>55.0</td>\n",
       "      <td>45%</td>\n",
       "      <td>12.0</td>\n",
       "    </tr>\n",
       "    <tr>\n",
       "      <th>12</th>\n",
       "      <td>seinfeld</td>\n",
       "      <td>23.0</td>\n",
       "      <td>13.0</td>\n",
       "      <td>77k</td>\n",
       "      <td>56.0</td>\n",
       "      <td>76%</td>\n",
       "      <td>13.0</td>\n",
       "    </tr>\n",
       "    <tr>\n",
       "      <th>13</th>\n",
       "      <td>seoul</td>\n",
       "      <td>55.0</td>\n",
       "      <td>2.0</td>\n",
       "      <td>15k</td>\n",
       "      <td>89.0</td>\n",
       "      <td>88%</td>\n",
       "      <td>2.0</td>\n",
       "    </tr>\n",
       "    <tr>\n",
       "      <th>14</th>\n",
       "      <td>tom</td>\n",
       "      <td>24.0</td>\n",
       "      <td>15.0</td>\n",
       "      <td>15k</td>\n",
       "      <td>89.0</td>\n",
       "      <td>88%</td>\n",
       "      <td>15.0</td>\n",
       "    </tr>\n",
       "    <tr>\n",
       "      <th>15</th>\n",
       "      <td>jhanvi</td>\n",
       "      <td>25.0</td>\n",
       "      <td>16.0</td>\n",
       "      <td>25k</td>\n",
       "      <td>10.0</td>\n",
       "      <td>23%</td>\n",
       "      <td>16.0</td>\n",
       "    </tr>\n",
       "    <tr>\n",
       "      <th>16</th>\n",
       "      <td>sara</td>\n",
       "      <td>26.0</td>\n",
       "      <td>2.0</td>\n",
       "      <td>55k</td>\n",
       "      <td>78.0</td>\n",
       "      <td>80%</td>\n",
       "      <td>2.0</td>\n",
       "    </tr>\n",
       "    <tr>\n",
       "      <th>17</th>\n",
       "      <td>mintu</td>\n",
       "      <td>27.0</td>\n",
       "      <td>2.0</td>\n",
       "      <td>15k</td>\n",
       "      <td>89.0</td>\n",
       "      <td>88%</td>\n",
       "      <td>2.0</td>\n",
       "    </tr>\n",
       "    <tr>\n",
       "      <th>18</th>\n",
       "      <td>devansh</td>\n",
       "      <td>55.0</td>\n",
       "      <td>19.0</td>\n",
       "      <td>50k</td>\n",
       "      <td>67.0</td>\n",
       "      <td>88%</td>\n",
       "      <td>19.0</td>\n",
       "    </tr>\n",
       "    <tr>\n",
       "      <th>19</th>\n",
       "      <td>Vanshika Moti</td>\n",
       "      <td>55.0</td>\n",
       "      <td>2.0</td>\n",
       "      <td>20k</td>\n",
       "      <td>89.0</td>\n",
       "      <td>88%</td>\n",
       "      <td>2.0</td>\n",
       "    </tr>\n",
       "    <tr>\n",
       "      <th>20</th>\n",
       "      <td>chintu</td>\n",
       "      <td>30.0</td>\n",
       "      <td>21.0</td>\n",
       "      <td>15k</td>\n",
       "      <td>78.0</td>\n",
       "      <td>67%</td>\n",
       "      <td>21.0</td>\n",
       "    </tr>\n",
       "    <tr>\n",
       "      <th>21</th>\n",
       "      <td>monty</td>\n",
       "      <td>31.0</td>\n",
       "      <td>22.0</td>\n",
       "      <td>15k</td>\n",
       "      <td>89.0</td>\n",
       "      <td>88%</td>\n",
       "      <td>22.0</td>\n",
       "    </tr>\n",
       "    <tr>\n",
       "      <th>22</th>\n",
       "      <td>deepika</td>\n",
       "      <td>32.0</td>\n",
       "      <td>23.0</td>\n",
       "      <td>45k</td>\n",
       "      <td>67.0</td>\n",
       "      <td>50%</td>\n",
       "      <td>23.0</td>\n",
       "    </tr>\n",
       "    <tr>\n",
       "      <th>23</th>\n",
       "      <td>deepak</td>\n",
       "      <td>33.0</td>\n",
       "      <td>24.0</td>\n",
       "      <td>5k</td>\n",
       "      <td>5.0</td>\n",
       "      <td>10%</td>\n",
       "      <td>24.0</td>\n",
       "    </tr>\n",
       "    <tr>\n",
       "      <th>24</th>\n",
       "      <td>Jatin</td>\n",
       "      <td>54.0</td>\n",
       "      <td>54.0</td>\n",
       "      <td>20k</td>\n",
       "      <td>89.0</td>\n",
       "      <td>89%</td>\n",
       "      <td>54.0</td>\n",
       "    </tr>\n",
       "  </tbody>\n",
       "</table>\n",
       "</div>"
      ],
      "text/plain": [
       "             name  roll_no  exam_id fees  marks percentage  result\n",
       "0          ayushi     11.0      1.0  10k   80.0        70%     1.0\n",
       "1          aditya     12.0      2.0  11k   81.0        71%     2.0\n",
       "2             dev     13.0      2.0  13k   89.0        88%     2.0\n",
       "3            ansh     14.0      2.0  14k   89.0        77%     2.0\n",
       "4           harsh     15.0      2.0  15k   89.0        88%     2.0\n",
       "5           varun     16.0      6.0  20k   78.0        88%     6.0\n",
       "6            tyga     17.0      7.0   8k   50.0        55%     7.0\n",
       "7          gunjan     18.0      8.0   7k   45.0        50%     8.0\n",
       "8           gagan     19.0      9.0  50k   95.0        99%     9.0\n",
       "9         bhargav     20.0     10.0  40k   30.0        40%    10.0\n",
       "10      satyendra     21.0     11.0  35k   89.0        88%    11.0\n",
       "11         pragya     22.0     12.0   6k   55.0        45%    12.0\n",
       "12       seinfeld     23.0     13.0  77k   56.0        76%    13.0\n",
       "13          seoul     55.0      2.0  15k   89.0        88%     2.0\n",
       "14            tom     24.0     15.0  15k   89.0        88%    15.0\n",
       "15         jhanvi     25.0     16.0  25k   10.0        23%    16.0\n",
       "16           sara     26.0      2.0  55k   78.0        80%     2.0\n",
       "17          mintu     27.0      2.0  15k   89.0        88%     2.0\n",
       "18        devansh     55.0     19.0  50k   67.0        88%    19.0\n",
       "19  Vanshika Moti     55.0      2.0  20k   89.0        88%     2.0\n",
       "20         chintu     30.0     21.0  15k   78.0        67%    21.0\n",
       "21          monty     31.0     22.0  15k   89.0        88%    22.0\n",
       "22        deepika     32.0     23.0  45k   67.0        50%    23.0\n",
       "23         deepak     33.0     24.0   5k    5.0        10%    24.0\n",
       "24          Jatin     54.0     54.0  20k   89.0        89%    54.0"
      ]
     },
     "execution_count": 46,
     "metadata": {},
     "output_type": "execute_result"
    }
   ],
   "source": [
    "stud"
   ]
  },
  {
   "cell_type": "markdown",
   "id": "4473db0c-0a81-4775-846f-4a83f93e14b1",
   "metadata": {},
   "source": [
    "# Apply Graphs"
   ]
  },
  {
   "cell_type": "code",
   "execution_count": 47,
   "id": "b569bffc-dacd-4d70-8b14-14ea3a6b6c37",
   "metadata": {},
   "outputs": [],
   "source": [
    "x = stud['name']\n",
    "y = stud['marks']"
   ]
  },
  {
   "cell_type": "code",
   "execution_count": 51,
   "id": "b82d093c-9b4e-4a5c-8a5a-47b97a1432b8",
   "metadata": {},
   "outputs": [
    {
     "name": "stdout",
     "output_type": "stream",
     "text": [
      "<class 'pandas.core.series.Series'>\n",
      "<class 'pandas.core.series.Series'>\n"
     ]
    }
   ],
   "source": [
    "print(type(x))\n",
    "print(type(y))"
   ]
  },
  {
   "cell_type": "code",
   "execution_count": 52,
   "id": "ea9ffdbd-d88a-48eb-8964-561fd6b2ca12",
   "metadata": {},
   "outputs": [
    {
     "data": {
      "text/plain": [
       "Text(0, 0.5, 'Marks')"
      ]
     },
     "execution_count": 52,
     "metadata": {},
     "output_type": "execute_result"
    },
    {
     "data": {
      "image/png": "[encoded data removed]",
      "text/plain": [
       "<Figure size 640x480 with 1 Axes>"
      ]
     },
     "metadata": {},
     "output_type": "display_data"
    }
   ],
   "source": [
    "# plt.bar(x, y)\n",
    "plt.bar([str(i) for i in stud.index], stud.marks)\n",
    "plt.xlabel(\"Name Index\")\n",
    "plt.ylabel(\"Marks\")"
   ]
  },
  {
   "cell_type": "code",
   "execution_count": null,
   "id": "c2ccb453-8d14-4205-9c98-bf78cbf796b9",
   "metadata": {},
   "outputs": [],
   "source": []
  }
 ],
 "metadata": {
  "kernelspec": {
   "display_name": "Python 3 (ipykernel)",
   "language": "python",
   "name": "python3"
  },
  "language_info": {
   "codemirror_mode": {
    "name": "ipython",
    "version": 3
   },
   "file_extension": ".py",
   "mimetype": "text/x-python",
   "name": "python",
   "nbconvert_exporter": "python",
   "pygments_lexer": "ipython3",
   "version": "3.12.4"
  }
 },
 "nbformat": 4,
 "nbformat_minor": 5
}
